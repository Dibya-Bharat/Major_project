{
 "cells": [
  {
   "cell_type": "code",
   "execution_count": null,
   "id": "7a985821-8134-449d-aa98-4532e7da81fd",
   "metadata": {},
   "outputs": [],
   "source": [
    "#content_filtering code"
   ]
  },
  {
   "cell_type": "code",
   "execution_count": 1,
   "id": "89477cfe-47fe-473b-bdfc-454eb19ec58d",
   "metadata": {},
   "outputs": [
    {
     "name": "stdout",
     "output_type": "stream",
     "text": [
      "Top 3 recommended places: [['Haridwar' ' Panch Kedar' ' Hemkund Sahib']]\n"
     ]
    }
   ],
   "source": [
    "import pandas as pd\n",
    "from sklearn.ensemble import RandomForestClassifier\n",
    "from sklearn.model_selection import train_test_split\n",
    "from sklearn.preprocessing import LabelEncoder\n",
    "\n",
    "# Load dataset\n",
    "data = pd.read_excel(\"sample_data.xlsx\")\n",
    "\n",
    "# Preprocessing\n",
    "# Encode categorical variables\n",
    "label_encoders = {}\n",
    "for col in [\"state\", \"category\"]:\n",
    "    le = LabelEncoder()\n",
    "    data[col] = le.fit_transform(data[col])\n",
    "    label_encoders[col] = le\n",
    "\n",
    "# Split data\n",
    "X = data.drop([\"place1\", \"place2\", \"place3\"], axis=1)\n",
    "y = data[[\"place1\", \"place2\", \"place3\"]]\n",
    "\n",
    "X_train, X_test, y_train, y_test = train_test_split(X, y, test_size=0.3, random_state=42)\n",
    "\n",
    "# Train model (example using RandomForestClassifier)\n",
    "model = RandomForestClassifier(n_estimators=100, random_state=42)\n",
    "model.fit(X_train, y_train)\n",
    "\n",
    "# User input (state, category, rating)\n",
    "user_input_state = \"Uttarakhand\"  # Replace with actual user input\n",
    "user_input_category = \"Religious\"\n",
    "user_input_rating = 4.5\n",
    "\n",
    "# Process user input\n",
    "user_input_encoded = pd.DataFrame({\n",
    "    \"state\": [label_encoders[\"state\"].transform([user_input_state])[0]],\n",
    "    \"category\": [label_encoders[\"category\"].transform([user_input_category])[0]],\n",
    "    \"rating\": [user_input_rating]\n",
    "})\n",
    "\n",
    "# Get recommendations\n",
    "predictions = model.predict(user_input_encoded)\n",
    "\n",
    "print(\"Top 3 recommended places:\", predictions)\n"
   ]
  },
  {
   "cell_type": "code",
   "execution_count": null,
   "id": "15c4316a-3512-4d2a-b9c0-bc6be5d92a06",
   "metadata": {},
   "outputs": [],
   "source": [
    "#Content_filtering_using_tensorflow"
   ]
  },
  {
   "cell_type": "code",
   "execution_count": 2,
   "id": "d9d00938-e681-48e4-be18-abe8acb9480b",
   "metadata": {},
   "outputs": [
    {
     "name": "stdout",
     "output_type": "stream",
     "text": [
      "Top 3 recommended places:\n",
      "Haridwar\n",
      " Panch Kedar\n",
      " Hemkund Sahib\n"
     ]
    }
   ],
   "source": [
    "import pandas as pd\n",
    "import tensorflow as tf\n",
    "from sklearn.ensemble import RandomForestClassifier\n",
    "from sklearn.model_selection import train_test_split\n",
    "from sklearn.preprocessing import LabelEncoder\n",
    "\n",
    "# Load dataset\n",
    "data = pd.read_excel(\"sample_data.xlsx\")\n",
    "\n",
    "# Preprocessing\n",
    "# Encode categorical variables\n",
    "label_encoders = {}\n",
    "for col in [\"state\", \"category\"]:\n",
    "    le = LabelEncoder()\n",
    "    data[col] = le.fit_transform(data[col])\n",
    "    label_encoders[col] = le\n",
    "\n",
    "# Split data\n",
    "X = data.drop([\"place1\", \"place2\", \"place3\"], axis=1)\n",
    "y = data[[\"place1\", \"place2\", \"place3\"]]\n",
    "X_train, X_test, y_train, y_test = train_test_split(X, y, test_size=0.3, random_state=42)\n",
    "\n",
    "# Train model (example using RandomForestClassifier)\n",
    "rf_model = RandomForestClassifier(n_estimators=100, random_state=42)\n",
    "rf_model.fit(X_train, y_train)\n",
    "\n",
    "# Save label encoders and model\n",
    "import joblib\n",
    "joblib.dump(label_encoders, \"label_encoders.pkl\")\n",
    "joblib.dump(rf_model, \"recommendation_model.pkl\")\n",
    "\n",
    "# User input (state, category, rating)\n",
    "user_input_state = \"Uttarakhand\"  # Replace with actual user input\n",
    "user_input_category = \"Religious\"\n",
    "user_input_rating = 4.5\n",
    "\n",
    "# Process user input\n",
    "user_input_encoded = pd.DataFrame({\n",
    "    \"state\": [label_encoders[\"state\"].transform([user_input_state])[0]],\n",
    "    \"category\": [label_encoders[\"category\"].transform([user_input_category])[0]],\n",
    "    \"rating\": [user_input_rating]\n",
    "})\n",
    "\n",
    "# Get recommendations\n",
    "recommendation_model = joblib.load(\"recommendation_model.pkl\")\n",
    "label_encoders = joblib.load(\"label_encoders.pkl\")\n",
    "\n",
    "# Make predictions\n",
    "predictions = recommendation_model.predict(user_input_encoded)\n",
    "\n",
    "# Print recommendations\n",
    "print(\"Top 3 recommended places:\")\n",
    "for place in predictions[0][:3]:\n",
    "    print(place)\n"
   ]
  },
  {
   "cell_type": "code",
   "execution_count": null,
   "id": "a7022769-4c53-4a09-bdce-2e6ba1045030",
   "metadata": {},
   "outputs": [],
   "source": []
  }
 ],
 "metadata": {
  "kernelspec": {
   "display_name": "Python 3 (ipykernel)",
   "language": "python",
   "name": "python3"
  },
  "language_info": {
   "codemirror_mode": {
    "name": "ipython",
    "version": 3
   },
   "file_extension": ".py",
   "mimetype": "text/x-python",
   "name": "python",
   "nbconvert_exporter": "python",
   "pygments_lexer": "ipython3",
   "version": "3.12.3"
  }
 },
 "nbformat": 4,
 "nbformat_minor": 5
}
